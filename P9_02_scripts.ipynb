{
 "cells": [
  {
   "cell_type": "markdown",
   "id": "e96ce174",
   "metadata": {},
   "source": [
    "# Réalisez une application mobile de recommandation de contenu\n",
    "\n",
    "## Sommaire\n",
    "\n",
    "* [I. Préambule](#I)\n",
    "* [II. Analyse exploiratoire de données](#II)\n",
    "* [III. Modélisation des données](#III)\n",
    "    * [1. Content-Based Recommender System](#III1)\n",
    "    * [2. Collaborative filtering](#III2)\n",
    "* [IV. Déploiement de l'Azure Functions](#IV)\n",
    "        \n",
    "## I. Préambule<a class=\"anchor\" id=\"I\"></a>\n",
    "\n",
    "My Content est une start-up qui veut encourager la lecture en recommandant des contenus pertinents pour ses utilisateurs.\n",
    "\n",
    "Je suis le CTO et cofondateur de la start-up avec Samia qui est CEO. Je suis en pleine construction d’un premier MVP qui prendra la forme d’une application mobile. \n",
    "\n",
    "Dans un premier temps, notre start-up souhaite tester une solution de recommandation d’articles et de livres à des particuliers.\n",
    "\n",
    "Les données représentent les interactions des utilisateurs avec les articles disponibles. Elles contiennent des informations sur les articles (par exemple le nombre de mots dans l’article), ainsi que les informations sur les sessions des utilisateurs (par exemple heures de début et de fin) et les interactions des utilisateurs avec les articles (Sur quel article l’utilisateur a-t-il cliqué lors de sa session ?)."
   ]
  },
  {
   "cell_type": "code",
   "execution_count": 1,
   "id": "dcce709c",
   "metadata": {},
   "outputs": [],
   "source": [
    "# Import libraries\n",
    "import os\n",
    "\n",
    "# Math libraries to process the data \n",
    "import numpy as np \n",
    "import pandas as pd\n",
    "import progressbar\n",
    "import pickle\n",
    "\n",
    "# Libraries for preprocessing\n",
    "from surprise import Dataset\n",
    "from surprise import Reader\n",
    "from collections import defaultdict\n",
    "\n",
    "# Classification libraries\n",
    "from sklearn.metrics.pairwise import cosine_similarity\n",
    "from time import time\n",
    "from surprise.model_selection import train_test_split\n",
    "import random\n",
    "from surprise import KNNWithMeans\n",
    "\n",
    "# Graph libraries to produce graphs \n",
    "import matplotlib.pyplot as plt \n",
    "import seaborn as sns \n",
    "import plotly.express as px\n",
    "\n",
    "pd.options.mode.chained_assignment = None"
   ]
  },
  {
   "cell_type": "markdown",
   "id": "6a4fdd47",
   "metadata": {},
   "source": [
    "## II. Analyse exploiratoire de données<a class=\"anchor\" id=\"II\"></a>\n",
    "\n",
    "Nous allons charger les données en mémoire."
   ]
  },
  {
   "cell_type": "code",
   "execution_count": 2,
   "id": "ebddf7b0",
   "metadata": {},
   "outputs": [
    {
     "name": "stdout",
     "output_type": "stream",
     "text": [
      "Articles Dataframe shape:  (364047, 4)\n",
      "Embedding Matrix shape:  (364047, 250)\n",
      "Clicks Dataframe shape:  (2988181, 6)\n"
     ]
    }
   ],
   "source": [
    "def load_data(src_path, click_path):\n",
    "    '''\n",
    "    Fonction utilisée pour charger les données du site \"News Portal\" de Globo.com\n",
    "\n",
    "    Parameters:\n",
    "        src_path : chemin vers le dossier contenant les metadonnées et la matrice embedding des articles\n",
    "        click_path : chemin vers le dossier contenant les fichiers d'interactions des utilisateurs (1 fichier par heure)\n",
    "    \n",
    "    Returns:\n",
    "        articles (dataframe) : les métadonnées des articles (id, catégorie, date de publication, nombre de mots)\n",
    "        embeddings (array) : matrice de 250 vecteurs des mots contenus dans les articles\n",
    "        clicks (dataframe)  : les interactions ou clicks des utilisateurs avec les articles\n",
    "    '''\n",
    "    # Load articles' metadata\n",
    "    articles = pd.read_csv(src_path / 'articles_metadata.csv')\n",
    "    \n",
    "    # Drop useless feature\n",
    "    articles.drop(columns=['publisher_id'], inplace=True)\n",
    "    \n",
    "    # Convert all data types to integer\n",
    "    articles = articles.astype(np.int64)\n",
    "\n",
    "    # Load articles' embedding\n",
    "    embeddings = pd.read_pickle(src_path / 'articles_embeddings.pickle')\n",
    "    \n",
    "    # Change data type from float64 to float32\n",
    "    embeddings = embeddings.astype(np.float32)\n",
    "\n",
    "    # Load user interactions with articles\n",
    "    clicks = pd.DataFrame().append(\n",
    "        [pd.read_csv(click_path / file) for file in sorted(os.listdir(click_path))],ignore_index=True\n",
    "    )\n",
    "    \n",
    "    # Rename columns\n",
    "    clicks.rename(columns={'click_article_id': 'article_id'}, inplace=True)\n",
    "    \n",
    "    # Drop useless feature\n",
    "    clicks.drop(\n",
    "        columns=[\n",
    "            'click_environment', \n",
    "            'click_deviceGroup',\n",
    "            'click_os', \n",
    "            'click_country',\n",
    "            'click_region',\n",
    "            'click_referrer_type'\n",
    "        ], inplace=True\n",
    "    )\n",
    "    \n",
    "    # Convert all data types to integer\n",
    "    clicks = clicks.astype(np.int64)\n",
    "\n",
    "    return articles, embeddings, clicks\n",
    "\n",
    "from pathlib import Path\n",
    "# Set general configurations\n",
    "src_path = Path('data')\n",
    "click_path = Path('data/clicks')\n",
    "\n",
    "# Call the function to load data\n",
    "articles, embeddings, clicks = load_data(src_path, click_path)\n",
    "\n",
    "# Display shape\n",
    "print('Articles Dataframe shape: ', articles.shape)\n",
    "print('Embedding Matrix shape: ', embeddings.shape)\n",
    "print('Clicks Dataframe shape: ', clicks.shape)"
   ]
  },
  {
   "cell_type": "markdown",
   "id": "bb6762c2",
   "metadata": {},
   "source": [
    "Nous allons maintenant observer quelques valeurs."
   ]
  },
  {
   "cell_type": "code",
   "execution_count": 3,
   "id": "303da405",
   "metadata": {},
   "outputs": [
    {
     "name": "stdout",
     "output_type": "stream",
     "text": [
      "<class 'pandas.core.frame.DataFrame'>\n",
      "RangeIndex: 364047 entries, 0 to 364046\n",
      "Data columns (total 4 columns):\n",
      " #   Column         Non-Null Count   Dtype\n",
      "---  ------         --------------   -----\n",
      " 0   article_id     364047 non-null  int64\n",
      " 1   category_id    364047 non-null  int64\n",
      " 2   created_at_ts  364047 non-null  int64\n",
      " 3   words_count    364047 non-null  int64\n",
      "dtypes: int64(4)\n",
      "memory usage: 11.1 MB\n"
     ]
    }
   ],
   "source": [
    "articles.info()"
   ]
  },
  {
   "cell_type": "markdown",
   "id": "c083a42a",
   "metadata": {},
   "source": [
    "Le fichier de données fourni contient 4 variables pour 364.047 individus."
   ]
  },
  {
   "cell_type": "code",
   "execution_count": 4,
   "id": "386077d3",
   "metadata": {},
   "outputs": [
    {
     "data": {
      "text/plain": [
       "<AxesSubplot:>"
      ]
     },
     "execution_count": 4,
     "metadata": {},
     "output_type": "execute_result"
    },
    {
     "data": {
      "image/png": "[encoded data removed]",
      "text/plain": [
       "<Figure size 432x288 with 1 Axes>"
      ]
     },
     "metadata": {
      "needs_background": "light"
     },
     "output_type": "display_data"
    }
   ],
   "source": [
    "sns.heatmap(articles.isna(), cbar=False)"
   ]
  },
  {
   "cell_type": "markdown",
   "id": "6cadd077",
   "metadata": {},
   "source": [
    "Toutes les colonnes de notre fichier sont parfaitement renseignées."
   ]
  },
  {
   "cell_type": "code",
   "execution_count": 5,
   "id": "f641e418",
   "metadata": {},
   "outputs": [
    {
     "data": {
      "text/plain": [
       "count    364047.000000\n",
       "mean        190.897727\n",
       "std          59.502766\n",
       "min           0.000000\n",
       "25%         159.000000\n",
       "50%         186.000000\n",
       "75%         218.000000\n",
       "max        6690.000000\n",
       "Name: words_count, dtype: float64"
      ]
     },
     "execution_count": 5,
     "metadata": {},
     "output_type": "execute_result"
    }
   ],
   "source": [
    "articles['words_count'].describe()"
   ]
  },
  {
   "cell_type": "markdown",
   "id": "521db42c",
   "metadata": {},
   "source": [
    "Le nombre de mots par article peut atteindre au maximum 6.690 et au minimum 0 avec une moyenne de 190 mots par article. "
   ]
  },
  {
   "cell_type": "code",
   "execution_count": 6,
   "id": "2b558259",
   "metadata": {},
   "outputs": [
    {
     "data": {
      "image/png": "[encoded data removed]",
      "text/plain": [
       "<Figure size 864x576 with 1 Axes>"
      ]
     },
     "metadata": {
      "needs_background": "light"
     },
     "output_type": "display_data"
    }
   ],
   "source": [
    "fig, ax = plt.subplots(figsize=(12, 8))\n",
    "\n",
    "sns.histplot(articles['words_count'],\n",
    "            color=\"deepskyblue\",\n",
    "            edgecolor=\"black\",\n",
    "            alpha=0.7,\n",
    "            ax=ax)\n",
    "\n",
    "plt.xlim([0,400])\n",
    "plt.title('Words per article distribution');\n",
    "plt.show()"
   ]
  },
  {
   "cell_type": "markdown",
   "id": "a6054b99",
   "metadata": {},
   "source": [
    "On peut remarquer ici que la distribution du nombre de mots par article suit une distribution normale."
   ]
  },
  {
   "cell_type": "code",
   "execution_count": 7,
   "id": "35287a82",
   "metadata": {},
   "outputs": [
    {
     "name": "stdout",
     "output_type": "stream",
     "text": [
      "Min/Max creation date: 2006-09-27 00:00:00 /  2018-03-13 00:00:00\n",
      "Articles metadata: (364047, 4)\n"
     ]
    },
    {
     "data": {
      "text/html": [
       "<div>\n",
       "<style scoped>\n",
       "    .dataframe tbody tr th:only-of-type {\n",
       "        vertical-align: middle;\n",
       "    }\n",
       "\n",
       "    .dataframe tbody tr th {\n",
       "        vertical-align: top;\n",
       "    }\n",
       "\n",
       "    .dataframe thead th {\n",
       "        text-align: right;\n",
       "    }\n",
       "</style>\n",
       "<table border=\"1\" class=\"dataframe\">\n",
       "  <thead>\n",
       "    <tr style=\"text-align: right;\">\n",
       "      <th></th>\n",
       "      <th>article_id</th>\n",
       "      <th>category_id</th>\n",
       "      <th>created_at_ts</th>\n",
       "      <th>words_count</th>\n",
       "    </tr>\n",
       "  </thead>\n",
       "  <tbody>\n",
       "    <tr>\n",
       "      <th>0</th>\n",
       "      <td>0</td>\n",
       "      <td>0</td>\n",
       "      <td>2017-12-13</td>\n",
       "      <td>168</td>\n",
       "    </tr>\n",
       "    <tr>\n",
       "      <th>1</th>\n",
       "      <td>1</td>\n",
       "      <td>1</td>\n",
       "      <td>2014-07-14</td>\n",
       "      <td>189</td>\n",
       "    </tr>\n",
       "    <tr>\n",
       "      <th>2</th>\n",
       "      <td>2</td>\n",
       "      <td>1</td>\n",
       "      <td>2014-08-22</td>\n",
       "      <td>250</td>\n",
       "    </tr>\n",
       "    <tr>\n",
       "      <th>3</th>\n",
       "      <td>3</td>\n",
       "      <td>1</td>\n",
       "      <td>2014-08-19</td>\n",
       "      <td>230</td>\n",
       "    </tr>\n",
       "    <tr>\n",
       "      <th>4</th>\n",
       "      <td>4</td>\n",
       "      <td>1</td>\n",
       "      <td>2014-08-03</td>\n",
       "      <td>162</td>\n",
       "    </tr>\n",
       "  </tbody>\n",
       "</table>\n",
       "</div>"
      ],
      "text/plain": [
       "   article_id  category_id created_at_ts  words_count\n",
       "0           0            0    2017-12-13          168\n",
       "1           1            1    2014-07-14          189\n",
       "2           2            1    2014-08-22          250\n",
       "3           3            1    2014-08-19          230\n",
       "4           4            1    2014-08-03          162"
      ]
     },
     "execution_count": 7,
     "metadata": {},
     "output_type": "execute_result"
    }
   ],
   "source": [
    "articles['created_at_ts'] = pd.to_datetime(\n",
    "    (\n",
    "        pd.to_datetime(\n",
    "            articles['created_at_ts'],\n",
    "            unit='ms'\n",
    "        )\n",
    "    ).dt.strftime('%Y/%m/%d'))\n",
    "\n",
    "print('Min/Max creation date:', articles['created_at_ts'].min(), '/ ', articles['created_at_ts'].max())\n",
    "\n",
    "print('Articles metadata:', articles.shape)\n",
    "articles.head()"
   ]
  },
  {
   "cell_type": "markdown",
   "id": "7083926b",
   "metadata": {},
   "source": [
    "Les articles que nous avons à disposition vont du 27 septembre 2006 au 13 mars 2018."
   ]
  },
  {
   "cell_type": "code",
   "execution_count": 8,
   "id": "91bb357b",
   "metadata": {},
   "outputs": [
    {
     "name": "stdout",
     "output_type": "stream",
     "text": [
      "<class 'pandas.core.frame.DataFrame'>\n",
      "RangeIndex: 2988181 entries, 0 to 2988180\n",
      "Data columns (total 6 columns):\n",
      " #   Column           Dtype\n",
      "---  ------           -----\n",
      " 0   user_id          int64\n",
      " 1   session_id       int64\n",
      " 2   session_start    int64\n",
      " 3   session_size     int64\n",
      " 4   article_id       int64\n",
      " 5   click_timestamp  int64\n",
      "dtypes: int64(6)\n",
      "memory usage: 136.8 MB\n"
     ]
    }
   ],
   "source": [
    "clicks.info()"
   ]
  },
  {
   "cell_type": "markdown",
   "id": "524dfd62",
   "metadata": {},
   "source": [
    "Le fichier clicks contient 6 variables pour 2.988.181 individus."
   ]
  },
  {
   "cell_type": "code",
   "execution_count": 9,
   "id": "0bffc530",
   "metadata": {},
   "outputs": [
    {
     "name": "stdout",
     "output_type": "stream",
     "text": [
      "=== Valeurs uniques des features de la table des interactions ===\n",
      "=================================================================\n",
      "user_id  : 322897\n",
      "session_id  : 1048594\n",
      "session_start  : 646874\n",
      "session_size  : 72\n",
      "article_id  : 46033\n",
      "click_timestamp  : 2983198\n"
     ]
    }
   ],
   "source": [
    "# Check unique values per column\n",
    "print('=== Valeurs uniques des features de la table des interactions ===')\n",
    "print('=================================================================')\n",
    "for col in clicks.columns:\n",
    "    print(col, ' :', clicks[col].nunique())"
   ]
  },
  {
   "cell_type": "markdown",
   "id": "01f0c7c4",
   "metadata": {},
   "source": [
    "On peut constater que nous avons 322.897 utilisateurs uniques."
   ]
  },
  {
   "cell_type": "code",
   "execution_count": 10,
   "id": "03ae787c",
   "metadata": {},
   "outputs": [
    {
     "name": "stdout",
     "output_type": "stream",
     "text": [
      "Embeddings des articles:  (364047, 250)\n"
     ]
    },
    {
     "data": {
      "text/html": [
       "<div>\n",
       "<style scoped>\n",
       "    .dataframe tbody tr th:only-of-type {\n",
       "        vertical-align: middle;\n",
       "    }\n",
       "\n",
       "    .dataframe tbody tr th {\n",
       "        vertical-align: top;\n",
       "    }\n",
       "\n",
       "    .dataframe thead th {\n",
       "        text-align: right;\n",
       "    }\n",
       "</style>\n",
       "<table border=\"1\" class=\"dataframe\">\n",
       "  <thead>\n",
       "    <tr style=\"text-align: right;\">\n",
       "      <th></th>\n",
       "      <th>dim_0</th>\n",
       "      <th>dim_1</th>\n",
       "      <th>dim_2</th>\n",
       "      <th>dim_3</th>\n",
       "      <th>dim_4</th>\n",
       "      <th>dim_5</th>\n",
       "      <th>dim_6</th>\n",
       "      <th>dim_7</th>\n",
       "      <th>dim_8</th>\n",
       "      <th>dim_9</th>\n",
       "      <th>...</th>\n",
       "      <th>dim_240</th>\n",
       "      <th>dim_241</th>\n",
       "      <th>dim_242</th>\n",
       "      <th>dim_243</th>\n",
       "      <th>dim_244</th>\n",
       "      <th>dim_245</th>\n",
       "      <th>dim_246</th>\n",
       "      <th>dim_247</th>\n",
       "      <th>dim_248</th>\n",
       "      <th>dim_249</th>\n",
       "    </tr>\n",
       "  </thead>\n",
       "  <tbody>\n",
       "    <tr>\n",
       "      <th>0</th>\n",
       "      <td>-0.161183</td>\n",
       "      <td>-0.957233</td>\n",
       "      <td>-0.137944</td>\n",
       "      <td>0.050855</td>\n",
       "      <td>0.830055</td>\n",
       "      <td>0.901365</td>\n",
       "      <td>-0.335148</td>\n",
       "      <td>-0.559561</td>\n",
       "      <td>-0.500603</td>\n",
       "      <td>0.165183</td>\n",
       "      <td>...</td>\n",
       "      <td>0.321248</td>\n",
       "      <td>0.313999</td>\n",
       "      <td>0.636412</td>\n",
       "      <td>0.169179</td>\n",
       "      <td>0.540524</td>\n",
       "      <td>-0.813182</td>\n",
       "      <td>0.286870</td>\n",
       "      <td>-0.231686</td>\n",
       "      <td>0.597416</td>\n",
       "      <td>0.409623</td>\n",
       "    </tr>\n",
       "    <tr>\n",
       "      <th>1</th>\n",
       "      <td>-0.523216</td>\n",
       "      <td>-0.974058</td>\n",
       "      <td>0.738608</td>\n",
       "      <td>0.155234</td>\n",
       "      <td>0.626294</td>\n",
       "      <td>0.485297</td>\n",
       "      <td>-0.715657</td>\n",
       "      <td>-0.897996</td>\n",
       "      <td>-0.359747</td>\n",
       "      <td>0.398246</td>\n",
       "      <td>...</td>\n",
       "      <td>-0.487843</td>\n",
       "      <td>0.823124</td>\n",
       "      <td>0.412688</td>\n",
       "      <td>-0.338654</td>\n",
       "      <td>0.320787</td>\n",
       "      <td>0.588643</td>\n",
       "      <td>-0.594137</td>\n",
       "      <td>0.182828</td>\n",
       "      <td>0.397090</td>\n",
       "      <td>-0.834364</td>\n",
       "    </tr>\n",
       "    <tr>\n",
       "      <th>2</th>\n",
       "      <td>-0.619619</td>\n",
       "      <td>-0.972960</td>\n",
       "      <td>-0.207360</td>\n",
       "      <td>-0.128861</td>\n",
       "      <td>0.044748</td>\n",
       "      <td>-0.387535</td>\n",
       "      <td>-0.730477</td>\n",
       "      <td>-0.066126</td>\n",
       "      <td>-0.754899</td>\n",
       "      <td>-0.242004</td>\n",
       "      <td>...</td>\n",
       "      <td>0.454756</td>\n",
       "      <td>0.473184</td>\n",
       "      <td>0.377866</td>\n",
       "      <td>-0.863887</td>\n",
       "      <td>-0.383365</td>\n",
       "      <td>0.137721</td>\n",
       "      <td>-0.810877</td>\n",
       "      <td>-0.447580</td>\n",
       "      <td>0.805932</td>\n",
       "      <td>-0.285284</td>\n",
       "    </tr>\n",
       "    <tr>\n",
       "      <th>3</th>\n",
       "      <td>-0.740843</td>\n",
       "      <td>-0.975749</td>\n",
       "      <td>0.391698</td>\n",
       "      <td>0.641738</td>\n",
       "      <td>-0.268645</td>\n",
       "      <td>0.191745</td>\n",
       "      <td>-0.825593</td>\n",
       "      <td>-0.710591</td>\n",
       "      <td>-0.040099</td>\n",
       "      <td>-0.110514</td>\n",
       "      <td>...</td>\n",
       "      <td>0.271535</td>\n",
       "      <td>0.036040</td>\n",
       "      <td>0.480029</td>\n",
       "      <td>-0.763173</td>\n",
       "      <td>0.022627</td>\n",
       "      <td>0.565165</td>\n",
       "      <td>-0.910286</td>\n",
       "      <td>-0.537838</td>\n",
       "      <td>0.243541</td>\n",
       "      <td>-0.885329</td>\n",
       "    </tr>\n",
       "    <tr>\n",
       "      <th>4</th>\n",
       "      <td>-0.279052</td>\n",
       "      <td>-0.972315</td>\n",
       "      <td>0.685374</td>\n",
       "      <td>0.113056</td>\n",
       "      <td>0.238315</td>\n",
       "      <td>0.271913</td>\n",
       "      <td>-0.568816</td>\n",
       "      <td>0.341194</td>\n",
       "      <td>-0.600554</td>\n",
       "      <td>-0.125644</td>\n",
       "      <td>...</td>\n",
       "      <td>0.238286</td>\n",
       "      <td>0.809268</td>\n",
       "      <td>0.427521</td>\n",
       "      <td>-0.615932</td>\n",
       "      <td>-0.503697</td>\n",
       "      <td>0.614450</td>\n",
       "      <td>-0.917760</td>\n",
       "      <td>-0.424061</td>\n",
       "      <td>0.185484</td>\n",
       "      <td>-0.580292</td>\n",
       "    </tr>\n",
       "  </tbody>\n",
       "</table>\n",
       "<p>5 rows × 250 columns</p>\n",
       "</div>"
      ],
      "text/plain": [
       "      dim_0     dim_1     dim_2     dim_3     dim_4     dim_5     dim_6  \\\n",
       "0 -0.161183 -0.957233 -0.137944  0.050855  0.830055  0.901365 -0.335148   \n",
       "1 -0.523216 -0.974058  0.738608  0.155234  0.626294  0.485297 -0.715657   \n",
       "2 -0.619619 -0.972960 -0.207360 -0.128861  0.044748 -0.387535 -0.730477   \n",
       "3 -0.740843 -0.975749  0.391698  0.641738 -0.268645  0.191745 -0.825593   \n",
       "4 -0.279052 -0.972315  0.685374  0.113056  0.238315  0.271913 -0.568816   \n",
       "\n",
       "      dim_7     dim_8     dim_9  ...   dim_240   dim_241   dim_242   dim_243  \\\n",
       "0 -0.559561 -0.500603  0.165183  ...  0.321248  0.313999  0.636412  0.169179   \n",
       "1 -0.897996 -0.359747  0.398246  ... -0.487843  0.823124  0.412688 -0.338654   \n",
       "2 -0.066126 -0.754899 -0.242004  ...  0.454756  0.473184  0.377866 -0.863887   \n",
       "3 -0.710591 -0.040099 -0.110514  ...  0.271535  0.036040  0.480029 -0.763173   \n",
       "4  0.341194 -0.600554 -0.125644  ...  0.238286  0.809268  0.427521 -0.615932   \n",
       "\n",
       "    dim_244   dim_245   dim_246   dim_247   dim_248   dim_249  \n",
       "0  0.540524 -0.813182  0.286870 -0.231686  0.597416  0.409623  \n",
       "1  0.320787  0.588643 -0.594137  0.182828  0.397090 -0.834364  \n",
       "2 -0.383365  0.137721 -0.810877 -0.447580  0.805932 -0.285284  \n",
       "3  0.022627  0.565165 -0.910286 -0.537838  0.243541 -0.885329  \n",
       "4 -0.503697  0.614450 -0.917760 -0.424061  0.185484 -0.580292  \n",
       "\n",
       "[5 rows x 250 columns]"
      ]
     },
     "execution_count": 10,
     "metadata": {},
     "output_type": "execute_result"
    }
   ],
   "source": [
    "df_embeddings = pd.DataFrame(embeddings)\n",
    "df_embeddings = df_embeddings.add_prefix('dim_')\n",
    "\n",
    "# Display shape and 5 first rows\n",
    "print('Embeddings des articles: ', df_embeddings.shape)\n",
    "df_embeddings.head()"
   ]
  },
  {
   "cell_type": "markdown",
   "id": "a890d9b4",
   "metadata": {},
   "source": [
    "364.047 articles sont disponibles dans la base.\n",
    "\n",
    "## III. Modélisation des données<a class=\"anchor\" id=\"III\"></a>\n",
    "\n",
    "Nous allons tester deux modèles différents pour mettre en oeuvre notre MVP : **Content-Based Recommender System** et **Collaborative filtering**.\n",
    "\n",
    "### 1. Content-Based Recommender System<a class=\"anchor\" id=\"III1\"></a>\n",
    "\n",
    "**Les systèmes de recommandation** sont des systèmes de filtrage d'informations actifs qui personnalisent les informations transmises à un utilisateur en fonction de ses intérêts, de la pertinence des informations, etc. Les systèmes de recommandation sont très utilisés pour recommander des films, des articles, des restaurants, des lieux à visiter, des articles à acheter, etc.\n",
    "\n",
    "Un **Content-Based Recommender System** fonctionne avec les données fournies par l'utilisateur, soit explicitement (notation), soit implicitement (clic sur un lien). Sur la base de ces données, un profil d'utilisateur est généré, qui est ensuite utilisé pour faire des suggestions à l'utilisateur. Au fur et à mesure que l'utilisateur fournit plus d'entrées ou prend des mesures sur ces recommandations, le moteur devient de plus en plus précis.\n",
    "\n",
    "**Un système de recommandation** doit choisir entre deux méthodes de diffusion d'informations lorsqu'il fournit des recommandations à l'utilisateur :\n",
    "* Exploitation : le système choisit des documents similaires à ceux pour lesquels l'utilisateur a déjà exprimé une préférence ;\n",
    "* Exploration : le système sélectionne les documents dont le profil de l'utilisateur ne fournit pas de preuves pour prédire la réaction de l'utilisateur."
   ]
  },
  {
   "cell_type": "code",
   "execution_count": 11,
   "id": "42c0d32b",
   "metadata": {},
   "outputs": [
    {
     "name": "stdout",
     "output_type": "stream",
     "text": [
      "The user id is: 0\n",
      "The last article seen by the user is: 87205\n",
      "Model executed in 1.31s\n",
      "The recommended articles are:\n",
      "[102720, 100020, 102412, 102611, 86703]\n"
     ]
    }
   ],
   "source": [
    "def get_content_based_recommendation(user_id, clicks, embeddings, n_reco=5):\n",
    "    '''Return n_reco recommended articles ID to user'''\n",
    "    start = time()\n",
    "\n",
    "    # Print targetted user_id\n",
    "    print('The user id is:', user_id)\n",
    "\n",
    "    # Get the list of articles viewed by the user\n",
    "    var = clicks.loc[clicks.user_id == user_id]['article_id'].to_list()\n",
    "    \n",
    "    # Select the last element of the list (most recent one)\n",
    "    value = var[-1]\n",
    "    print('The last article seen by the user is:', value)\n",
    "    \n",
    "    # Delete already viewed articles except the selected one\n",
    "    emb = embeddings\n",
    "    for i in range (0, len(var)):\n",
    "        if i != value:\n",
    "            emb = np.delete(emb, [i], 0)\n",
    "    \n",
    "    # Delete selected article from the new matrix\n",
    "    temp = np.delete(emb, [value], 0)\n",
    "\n",
    "    # Get n_reco articles which are the most similar to the selected one\n",
    "    distances = cosine_similarity([emb[value]], temp)[0]\n",
    "    \n",
    "    # Find the indexes, except the selected article\n",
    "    ranked_ids = np.argsort(distances)[::-1][0:n_reco]\n",
    "    print(f'Model executed in {round(time() - start, 2)}s')\n",
    "    print('The recommended articles are:')\n",
    "    \n",
    "    return ranked_ids.tolist()\n",
    "\n",
    "# Call the function\n",
    "user_id = 0\n",
    "n_reco = 5\n",
    "recommendation = get_content_based_recommendation(user_id, clicks, embeddings, n_reco)\n",
    "print(recommendation)"
   ]
  },
  {
   "cell_type": "markdown",
   "id": "32601e82",
   "metadata": {},
   "source": [
    "### 2. Collaborative filtering<a class=\"anchor\" id=\"III2\"></a>\n",
    "\n",
    "Le Collaborative filtering est une technique qui peut filtrer les éléments qu'un utilisateur pourrait aimer sur la base des réactions d'utilisateurs similaires.\n",
    "\n",
    "Cela fonctionne en recherchant un grand groupe de personnes et en trouvant un plus petit ensemble d'utilisateurs ayant des goûts similaires à un utilisateur particulier. Il examine les éléments qu'ils aiment et les combine pour créer une liste classée de suggestions.\n",
    "\n",
    "Il existe de nombreuses façons de déterminer quels utilisateurs sont similaires et de combiner leurs choix pour créer une liste de recommandations. Ici, nous nous baserons sur les catégories lues par les utilisateurs.\n",
    "\n",
    "Nous allons utiliser l'algorithme **KNNWithMeans** de la librairie **Surprise**. C'est un algorithme de collaborative filtering basique, prenant en compte les notes moyennes de chaque utilisateur."
   ]
  },
  {
   "cell_type": "code",
   "execution_count": 12,
   "id": "8a29cb5f",
   "metadata": {},
   "outputs": [
    {
     "name": "stdout",
     "output_type": "stream",
     "text": [
      "Computing the cosine similarity matrix...\n",
      "Done computing similarity matrix.\n",
      "The user id is: 0\n",
      "Model executed in 1.25s\n",
      "The recommended categories are: [362, 310, 202, 370, 287]\n",
      "1 random article from each categories: [226710, 192032, 91212, 227593, 164355]\n"
     ]
    }
   ],
   "source": [
    "def predict_best_category_for_user(user_id, model, n_reco=5):\n",
    "    '''Return n_reco recommended articles ID to user'''\n",
    "    start = time()\n",
    "\n",
    "    # Print targetted user_id\n",
    "    print('The user id is:', user_id)\n",
    "    \n",
    "    predictions = {}\n",
    "    \n",
    "    # Category 1 to 460\n",
    "    for i in range(1, 460):\n",
    "        _, category_id, _, est, err = model.predict(user_id, i)\n",
    "        \n",
    "        # Keep prediction only if we could keep it.\n",
    "        if (err != True):\n",
    "            predictions[category_id] = est\n",
    "    \n",
    "    best_categories_to_recommend = dict(sorted(predictions.items(), key=lambda x: x[1], reverse=True)[:n_reco])\n",
    "    \n",
    "    recommended_articles = []\n",
    "    for key, _ in best_categories_to_recommend.items():\n",
    "        recommended_articles.append(int(articles[articles['category_id'] == key]['article_id'].sample(1).values))\n",
    "        \n",
    "    print(f'Model executed in {round(time() - start, 2)}s')\n",
    "    print(f'The recommended categories are: {list(best_categories_to_recommend.keys())}')\n",
    "    print(f'1 random article from each categories: {recommended_articles}')\n",
    "    \n",
    "    return recommended_articles, best_categories_to_recommend\n",
    "\n",
    "\n",
    "# To use item-based cosine similarity\n",
    "sim_options = {\n",
    "    \"name\": \"cosine\",\n",
    "    # Compute similarities between items\n",
    "    \"user_based\": False,  \n",
    "}\n",
    "\n",
    "#Create a map to convert article_id to category\n",
    "dict_article_categories = articles.set_index('article_id')['category_id'].to_dict()\n",
    "\n",
    "#Get Categorie associate for each article\n",
    "clicks['category_id'] = clicks['article_id'].map(dict_article_categories).astype(int)\n",
    "clicks['total_click'] = clicks.groupby(['user_id'])['article_id'].transform('count')\n",
    "clicks['total_click_by_category_id'] = clicks.groupby(['user_id','category_id'])['article_id'].transform('count')\n",
    "clicks['rating'] = clicks['total_click_by_category_id'] / clicks['total_click']\n",
    "\n",
    "\n",
    "# A reader is still needed but only the rating_scale param is requiered.\n",
    "reader = Reader(rating_scale=(0, 1))\n",
    "\n",
    "data = Dataset.load_from_df(clicks[['user_id', 'category_id', 'rating']], reader)\n",
    "train_set, test_set = train_test_split(data, test_size=.25)\n",
    "model = KNNWithMeans(sim_options=sim_options).fit(train_set)\n",
    "\n",
    "user_id = 0\n",
    "n_reco = 5\n",
    "results, recommended_categories = predict_best_category_for_user(user_id, model, n_reco)"
   ]
  },
  {
   "cell_type": "markdown",
   "id": "204fc744",
   "metadata": {},
   "source": [
    "## IV. Déploiement de l'Azure Functions<a class=\"anchor\" id=\"IV\"></a>\n",
    "\n",
    "Pour le déploiement de notre module de prédiction, nous avons utilisé une architecture serverless avec Azure Functions.  Azure Functions est un service permettant de mettre en place rapidement ce type d’architecture dans le cloud. Les données utilisées pour effecture la prédiction sont, quant à elles, stockées dans un conteneur Blob. Le stockage Blob Azure est la solution de stockage d’objet de Microsoft pour le cloud. La mémoire maximale par instance de fonction étant limitée à 1.5Go, nous avons réduit nos données à 10.000 utilisateurs."
   ]
  },
  {
   "cell_type": "code",
   "execution_count": 13,
   "id": "b61209fc",
   "metadata": {},
   "outputs": [
    {
     "name": "stdout",
     "output_type": "stream",
     "text": [
      "small_clicks shape: (225648, 10)\n",
      "Nb unique article_id: 12423\n"
     ]
    }
   ],
   "source": [
    "# Create new file with user_id filtering (10000)\n",
    "small_clicks = clicks[clicks.user_id.isin(range(0,10000))]\n",
    "\n",
    "# Display shape and 5 first rows\n",
    "print(\"small_clicks shape:\", small_clicks.shape)\n",
    "\n",
    "# Nb of unique article_id\n",
    "print(\"Nb unique article_id:\", small_clicks.article_id.nunique())\n",
    "\n",
    "# Save the small clicks data to CSV\n",
    "small_clicks.to_csv('data/small_clicks.csv', index=False)"
   ]
  },
  {
   "cell_type": "markdown",
   "id": "c171c2d6",
   "metadata": {},
   "source": [
    "Nous ne garderons que les articles consultés par ces 10.000 utilisateurs, soit 12.423."
   ]
  },
  {
   "cell_type": "code",
   "execution_count": 14,
   "id": "ec820bc1",
   "metadata": {},
   "outputs": [
    {
     "name": "stdout",
     "output_type": "stream",
     "text": [
      "small_embeddings shape: (12423, 250)\n"
     ]
    }
   ],
   "source": [
    "# Build the article id list\n",
    "list_article_id = sorted(list(small_clicks.article_id.unique()))\n",
    "\n",
    "# Create a filtered dataframe\n",
    "test_embeddings = df_embeddings[df_embeddings.index.isin(list_article_id)]\n",
    "\n",
    "# Convert to numpy\n",
    "small_embeddings = test_embeddings.to_numpy()\n",
    "print(\"small_embeddings shape:\", small_embeddings.shape)\n",
    "\n",
    "# Save as Pickle\n",
    "pickle.dump(small_embeddings, open('data/small_embeddings.pickle', 'wb'))\n",
    "\n",
    "# Reload if necessary\n",
    "small_embeddings = pd.read_pickle('data/small_embeddings.pickle')"
   ]
  },
  {
   "cell_type": "markdown",
   "id": "17545e0a",
   "metadata": {},
   "source": [
    "Nous adaptons notre script pour qu'il puisse, d'une part, faire pointer correctement un article_id à l'embeddings correspondant (en effet, un Numpy array n'a pas d'index explicite) et, d'autre part, afficher la liste des recommandations dans un format qui peut être lu par notre application mobile."
   ]
  },
  {
   "cell_type": "code",
   "execution_count": 15,
   "id": "6e8520a6",
   "metadata": {},
   "outputs": [
    {
     "data": {
      "text/plain": [
       "[162605, 157725, 158040, 161868, 158657]"
      ]
     },
     "execution_count": 15,
     "metadata": {},
     "output_type": "execute_result"
    }
   ],
   "source": [
    "def get_content_based_recommendation(user_id, clicks, embeddings, n_reco=5):\n",
    "    '''Return 5 recommended articles id to user'''\n",
    "\n",
    "    # Get the list of articles viewed by the user\n",
    "    var = clicks.loc[clicks.user_id == user_id]['article_id'].to_list()\n",
    "\n",
    "    # Get the list of unique article_id in clicks\n",
    "    list_article_id = sorted(list(clicks.article_id.unique()))\n",
    "\n",
    "    # Retrieve the corresponding index of the articles viewed by user_id in var\n",
    "    idx_var = []\n",
    "    for i in range(0, len(var)):\n",
    "        for idx, item in enumerate(list(list_article_id)):\n",
    "            if item == var[i]:\n",
    "                idx_var.append(idx)\n",
    "\n",
    "    # Select the last element of the list\n",
    "    value = idx_var[-1]\n",
    "\n",
    "    # Compute the cosine similarity\n",
    "    emb = embeddings\n",
    "    distances = cosine_similarity([emb[value]], emb)[0]\n",
    "\n",
    "    # Save the result in Pandas DataFrame\n",
    "    df_recommendation = pd.DataFrame(list(zip(list_article_id, distances)), columns=([\"recommended_article_id\", \"similarity\"]))\n",
    "    \n",
    "    # Sort the dataframe by similarity\n",
    "    df_recommendation.sort_values(by='similarity', ascending=False, inplace=True)\n",
    "\n",
    "    # Exclude already viewed articles\n",
    "    top_recommendation = df_recommendation[~df_recommendation.recommended_article_id.isin(var)]\n",
    "\n",
    "    # Give the list of recommended articles\n",
    "    result = list(top_recommendation[\"recommended_article_id\"].iloc[:(n_reco)].values)\n",
    "\n",
    "    return result\n",
    "\n",
    "# Choose a user_id\n",
    "user_id = 5659\n",
    "\n",
    "# Save the function in a variable\n",
    "recommendations = get_content_based_recommendation(user_id, small_clicks, small_embeddings, n_reco=5)\n",
    "\n",
    "# Display the result\n",
    "recommendations"
   ]
  }
 ],
 "metadata": {
  "kernelspec": {
   "display_name": "Python 3 (ipykernel)",
   "language": "python",
   "name": "python3"
  },
  "language_info": {
   "codemirror_mode": {
    "name": "ipython",
    "version": 3
   },
   "file_extension": ".py",
   "mimetype": "text/x-python",
   "name": "python",
   "nbconvert_exporter": "python",
   "pygments_lexer": "ipython3",
   "version": "3.9.7"
  }
 },
 "nbformat": 4,
 "nbformat_minor": 5
}
